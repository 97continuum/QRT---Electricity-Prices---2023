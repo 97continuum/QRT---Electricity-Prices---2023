{
 "cells": [
  {
   "cell_type": "markdown",
   "metadata": {},
   "source": [
    "# Import Packages"
   ]
  },
  {
   "cell_type": "code",
   "execution_count": 3,
   "metadata": {},
   "outputs": [],
   "source": [
    "\"\"\"\n",
    "Main File for QRT - Electricity Price - 2023 Project\n",
    "\"\"\"\n",
    "import pandas as pd\n",
    "import numpy as np\n",
    "import matplotlib as mpl\n",
    "import os\n",
    "\n",
    "curr_dir = '/Users/talhajamal/Desktop/Code/Python_Projects/QRT - 2023 - Electricity Price/'"
   ]
  },
  {
   "cell_type": "markdown",
   "metadata": {},
   "source": [
    "# Data Preprocessing"
   ]
  },
  {
   "cell_type": "code",
   "execution_count": 30,
   "metadata": {},
   "outputs": [],
   "source": [
    "# Importing Data From Files\n",
    "x_train = pd.read_csv(f\"{curr_dir}data/X_train_NHkHMNU.csv\").set_index('ID').sort_index()\n",
    "y_train = pd.read_csv(f\"{curr_dir}data/y_train_ZAN5mwg.csv\").set_index('ID').sort_index()\n",
    "x_test = pd.read_csv(f\"{curr_dir}data/X_test_final.csv\").set_index('ID')\n",
    "\n",
    "# Combined Training and Testing Data\n",
    "full_data = pd.concat([x_train, x_test], axis=0).sort_index()\n",
    "de_full_data = full_data[full_data['COUNTRY'] == 'DE']\n",
    "fr_full_data = full_data[full_data['COUNTRY'] == 'FR']\n",
    "\n",
    "# Separating data for each country\n",
    "de_x_train = x_train[x_train['COUNTRY'] == 'DE']\n",
    "de_y_train = y_train[y_train.index.isin(de_x_train.index)]\n",
    "fr_x_train = x_train[x_train['COUNTRY'] == 'FR']\n",
    "fr_y_train = y_train[y_train.index.isin(fr_x_train.index)]"
   ]
  },
  {
   "cell_type": "markdown",
   "metadata": {},
   "source": [
    "# Split Data"
   ]
  },
  {
   "cell_type": "code",
   "execution_count": 23,
   "metadata": {},
   "outputs": [
    {
     "data": {
      "text/plain": [
       "Index(['DAY_ID', 'COUNTRY', 'DE_CONSUMPTION', 'FR_CONSUMPTION',\n",
       "       'DE_FR_EXCHANGE', 'FR_DE_EXCHANGE', 'DE_NET_EXPORT', 'FR_NET_EXPORT',\n",
       "       'DE_NET_IMPORT', 'FR_NET_IMPORT', 'DE_GAS', 'FR_GAS', 'DE_COAL',\n",
       "       'FR_COAL', 'DE_HYDRO', 'FR_HYDRO', 'DE_NUCLEAR', 'FR_NUCLEAR',\n",
       "       'DE_SOLAR', 'FR_SOLAR', 'DE_WINDPOW', 'FR_WINDPOW', 'DE_LIGNITE',\n",
       "       'DE_RESIDUAL_LOAD', 'FR_RESIDUAL_LOAD', 'DE_RAIN', 'FR_RAIN', 'DE_WIND',\n",
       "       'FR_WIND', 'DE_TEMP', 'FR_TEMP', 'GAS_RET', 'COAL_RET', 'CARBON_RET'],\n",
       "      dtype='object')"
      ]
     },
     "execution_count": 23,
     "metadata": {},
     "output_type": "execute_result"
    }
   ],
   "source": [
    "x_train_cols = x_train.columns\n",
    "x_train_cols"
   ]
  },
  {
   "cell_type": "code",
   "execution_count": null,
   "metadata": {},
   "outputs": [],
   "source": []
  }
 ],
 "metadata": {
  "kernelspec": {
   "display_name": "Python 3",
   "language": "python",
   "name": "python3"
  },
  "language_info": {
   "codemirror_mode": {
    "name": "ipython",
    "version": 3
   },
   "file_extension": ".py",
   "mimetype": "text/x-python",
   "name": "python",
   "nbconvert_exporter": "python",
   "pygments_lexer": "ipython3",
   "version": "3.11.3"
  },
  "orig_nbformat": 4
 },
 "nbformat": 4,
 "nbformat_minor": 2
}
