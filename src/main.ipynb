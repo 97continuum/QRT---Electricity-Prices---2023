{
 "cells": [
  {
   "cell_type": "markdown",
   "metadata": {},
   "source": [
    "# Import Packages"
   ]
  },
  {
   "cell_type": "code",
   "execution_count": 243,
   "metadata": {},
   "outputs": [],
   "source": [
    "\"\"\"\n",
    "Main File for QRT - Electricity Price - 2023 Project\n",
    "\"\"\"\n",
    "import os\n",
    "import pandas as pd\n",
    "import numpy as np\n",
    "import matplotlib.pyplot as plt\n",
    "\n",
    "from sklearn.model_selection import cross_val_score\n",
    "from sklearn.model_selection import RepeatedKFold\n",
    "from sklearn.model_selection import train_test_split\n",
    "\n",
    "from scipy.stats import spearmanr\n",
    "\n",
    "from xgboost import XGBRegressor"
   ]
  },
  {
   "cell_type": "markdown",
   "metadata": {},
   "source": [
    "# Data Preprocessing"
   ]
  },
  {
   "cell_type": "code",
   "execution_count": 244,
   "metadata": {},
   "outputs": [
    {
     "data": {
      "text/plain": [
       "TARGET    0\n",
       "dtype: int64"
      ]
     },
     "execution_count": 244,
     "metadata": {},
     "output_type": "execute_result"
    }
   ],
   "source": [
    "# Importing Data From Files\n",
    "curr_dir = '/Users/talhajamal/Desktop/Code/Python_Projects/QRT - 2023 - Electricity Price/'\n",
    "os.chdir(curr_dir)\n",
    "\n",
    "x_train = pd.read_csv(f\"{curr_dir}data/X_train_NHkHMNU.csv\").set_index('ID').sort_index()\n",
    "x_train_cols = x_train.columns\n",
    "y_train = pd.read_csv(f\"{curr_dir}data/y_train_ZAN5mwg.csv\").set_index('ID').sort_index()\n",
    "x_test = pd.read_csv(f\"{curr_dir}data/X_test_final.csv\").set_index('ID')\n",
    "\n",
    "# Temporarily fill data with 0\n",
    "x_train = x_train.interpolate(method='polynomial', order=2)\n",
    "y_train.isna().sum()"
   ]
  },
  {
   "cell_type": "markdown",
   "metadata": {},
   "source": [
    "# Useful Functions"
   ]
  },
  {
   "cell_type": "code",
   "execution_count": 245,
   "metadata": {},
   "outputs": [],
   "source": [
    "def plot_ts(ts: pd.Series, title: str = None, figsize=(13,5)) -> None:\n",
    "    \"\"\"plots a given timeseries and displays an optional title\"\"\"\n",
    "    plt.figure(figsize=figsize)\n",
    "    ax = plt.subplot(111)\n",
    "    plt.plot(ts)\n",
    "    plt.title(title or '', fontsize=10)\n",
    "    plt.grid(alpha=0.5, linestyle='dashed')\n",
    "    plt.show()"
   ]
  },
  {
   "cell_type": "markdown",
   "metadata": {},
   "source": [
    "# Split Data"
   ]
  },
  {
   "cell_type": "code",
   "execution_count": 246,
   "metadata": {},
   "outputs": [],
   "source": [
    "#missing_values = x_train.isna().sum()\n",
    "#missing_values.plot(kind='bar', figsize=(10, 4), color='skyblue')\n",
    "#plt.title('Missing Values per Column')\n",
    "#plt.xlabel('Columns')\n",
    "#plt.ylabel('Missing Values')\n",
    "#plt.xticks(rotation=90)  # Rotate the x labels to show them vertically\n",
    "#plt.tight_layout()  # Adjust layout to make room for the x labels\n",
    "#plt.show()"
   ]
  },
  {
   "cell_type": "markdown",
   "metadata": {},
   "source": [
    "# Fill Data"
   ]
  },
  {
   "cell_type": "code",
   "execution_count": 247,
   "metadata": {},
   "outputs": [],
   "source": [
    "# Combined Training and Testing Data\n",
    "#full_data = pd.concat([x_train, x_test], axis=0).sort_index()\n",
    "#de_full_data = full_data[full_data['COUNTRY'] == 'DE']\n",
    "#fr_full_data = full_data[full_data['COUNTRY'] == 'FR']\n",
    "\n",
    "#x_train = x_train.interpolate(method='linear')\n",
    "#x_test = x_test.interpolate(method='linear')\n",
    "\n",
    "# Separating data for each country\n",
    "#de_x_train = x_train[x_train['COUNTRY'] == 'DE']\n",
    "#de_y_train = y_train[y_train.index.isin(de_x_train.index)]\n",
    "#fr_x_train = x_train[x_train['COUNTRY'] == 'FR']\n",
    "#fr_y_train = y_train[y_train.index.isin(fr_x_train.index)]"
   ]
  },
  {
   "cell_type": "code",
   "execution_count": 248,
   "metadata": {},
   "outputs": [],
   "source": [
    "#plot_ts(fr_x_train['FR_RAIN'], 'FR_RAIN')"
   ]
  },
  {
   "cell_type": "code",
   "execution_count": 249,
   "metadata": {},
   "outputs": [],
   "source": [
    "#plot_ts(fr_x_train['FR_WIND'], 'FR_WIND')"
   ]
  },
  {
   "cell_type": "code",
   "execution_count": 250,
   "metadata": {},
   "outputs": [],
   "source": [
    "#plot_ts(fr_x_train['FR_TEMP'], 'FR_TEMP')"
   ]
  },
  {
   "cell_type": "markdown",
   "metadata": {},
   "source": [
    "# XGBoost Regression"
   ]
  },
  {
   "cell_type": "code",
   "execution_count": 251,
   "metadata": {},
   "outputs": [
    {
     "name": "stdout",
     "output_type": "stream",
     "text": [
      "Spearman correlation for the train set: 72.6%\n"
     ]
    }
   ],
   "source": [
    "X_train_clean = x_train.drop(['COUNTRY'], axis=1)\n",
    "Y_train_clean = y_train['TARGET']\n",
    "xgb = XGBRegressor()\n",
    "xgb.fit(X_train_clean, Y_train_clean)\n",
    "output_train = xgb.predict(X_train_clean)\n",
    "\n",
    "def metric_train(output):\n",
    "    return  spearmanr(output, Y_train_clean).correlation\n",
    "\n",
    "print('Spearman correlation for the train set: {:.1f}%'.format(100 * metric_train(output_train) ))"
   ]
  },
  {
   "cell_type": "code",
   "execution_count": 252,
   "metadata": {},
   "outputs": [],
   "source": [
    "X_test_clean = x_test.drop(['COUNTRY'], axis=1).fillna(0)\n",
    "\n",
    "Y_test_submission = pd.DataFrame()\n",
    "Y_test_submission['ID'] = x_test.index.to_list()\n",
    "Y_test_submission['TARGET'] = xgb.predict(X_test_clean)\n",
    "\n",
    "Y_test_submission.to_csv('src/xgb_predictions.csv', index=False)"
   ]
  },
  {
   "cell_type": "code",
   "execution_count": 253,
   "metadata": {},
   "outputs": [
    {
     "data": {
      "text/html": [
       "<div>\n",
       "<style scoped>\n",
       "    .dataframe tbody tr th:only-of-type {\n",
       "        vertical-align: middle;\n",
       "    }\n",
       "\n",
       "    .dataframe tbody tr th {\n",
       "        vertical-align: top;\n",
       "    }\n",
       "\n",
       "    .dataframe thead th {\n",
       "        text-align: right;\n",
       "    }\n",
       "</style>\n",
       "<table border=\"1\" class=\"dataframe\">\n",
       "  <thead>\n",
       "    <tr style=\"text-align: right;\">\n",
       "      <th></th>\n",
       "      <th>ID</th>\n",
       "      <th>TARGET</th>\n",
       "    </tr>\n",
       "  </thead>\n",
       "  <tbody>\n",
       "    <tr>\n",
       "      <th>0</th>\n",
       "      <td>1115</td>\n",
       "      <td>-0.272144</td>\n",
       "    </tr>\n",
       "    <tr>\n",
       "      <th>1</th>\n",
       "      <td>1202</td>\n",
       "      <td>-0.096273</td>\n",
       "    </tr>\n",
       "    <tr>\n",
       "      <th>2</th>\n",
       "      <td>1194</td>\n",
       "      <td>-0.184181</td>\n",
       "    </tr>\n",
       "    <tr>\n",
       "      <th>3</th>\n",
       "      <td>1084</td>\n",
       "      <td>0.015469</td>\n",
       "    </tr>\n",
       "    <tr>\n",
       "      <th>4</th>\n",
       "      <td>1135</td>\n",
       "      <td>-0.258083</td>\n",
       "    </tr>\n",
       "    <tr>\n",
       "      <th>...</th>\n",
       "      <td>...</td>\n",
       "      <td>...</td>\n",
       "    </tr>\n",
       "    <tr>\n",
       "      <th>649</th>\n",
       "      <td>879</td>\n",
       "      <td>-0.808060</td>\n",
       "    </tr>\n",
       "    <tr>\n",
       "      <th>650</th>\n",
       "      <td>673</td>\n",
       "      <td>0.276241</td>\n",
       "    </tr>\n",
       "    <tr>\n",
       "      <th>651</th>\n",
       "      <td>1641</td>\n",
       "      <td>1.822636</td>\n",
       "    </tr>\n",
       "    <tr>\n",
       "      <th>652</th>\n",
       "      <td>712</td>\n",
       "      <td>-0.230851</td>\n",
       "    </tr>\n",
       "    <tr>\n",
       "      <th>653</th>\n",
       "      <td>1060</td>\n",
       "      <td>-0.204222</td>\n",
       "    </tr>\n",
       "  </tbody>\n",
       "</table>\n",
       "<p>654 rows × 2 columns</p>\n",
       "</div>"
      ],
      "text/plain": [
       "       ID    TARGET\n",
       "0    1115 -0.272144\n",
       "1    1202 -0.096273\n",
       "2    1194 -0.184181\n",
       "3    1084  0.015469\n",
       "4    1135 -0.258083\n",
       "..    ...       ...\n",
       "649   879 -0.808060\n",
       "650   673  0.276241\n",
       "651  1641  1.822636\n",
       "652   712 -0.230851\n",
       "653  1060 -0.204222\n",
       "\n",
       "[654 rows x 2 columns]"
      ]
     },
     "execution_count": 253,
     "metadata": {},
     "output_type": "execute_result"
    }
   ],
   "source": [
    "Y_test_submission"
   ]
  },
  {
   "cell_type": "markdown",
   "metadata": {},
   "source": [
    "Current out of sample performance is 17.65%. This beats the benchmark Linear Regression Model's performance of 15.9%"
   ]
  }
 ],
 "metadata": {
  "kernelspec": {
   "display_name": "Python 3",
   "language": "python",
   "name": "python3"
  },
  "language_info": {
   "codemirror_mode": {
    "name": "ipython",
    "version": 3
   },
   "file_extension": ".py",
   "mimetype": "text/x-python",
   "name": "python",
   "nbconvert_exporter": "python",
   "pygments_lexer": "ipython3",
   "version": "3.11.3"
  },
  "orig_nbformat": 4
 },
 "nbformat": 4,
 "nbformat_minor": 2
}
